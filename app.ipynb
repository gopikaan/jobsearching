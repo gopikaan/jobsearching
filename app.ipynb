{
 "cells": [
  {
   "cell_type": "markdown",
   "metadata": {},
   "source": [
    "# Open Jobs Analyzer and Recommendation\n"
   ]
  },
  {
   "cell_type": "code",
   "execution_count": 2,
   "metadata": {},
   "outputs": [],
   "source": [
    "# for basic operations\n",
    "import numpy as np\n",
    "import pandas as pd\n",
    "\n",
    "# for data visualizations\n",
    "import matplotlib.pyplot as plt\n",
    "import seaborn as sns\n",
    "\n",
    "# for interactivity\n",
    "import ipywidgets as widgets\n",
    "from ipywidgets import interact\n",
    "from ipywidgets import interact_manual\n",
    "\n",
    "# for interactive shells\n",
    "from IPython.display import display\n",
    "\n",
    "# seting for charts\n",
    "plt.rcParams['figure.figsize'] = (15, 7)\n",
    "plt.style.use('fivethirtyeight')"
   ]
  },
  {
   "cell_type": "code",
   "execution_count": 3,
   "metadata": {},
   "outputs": [],
   "source": [
    "# lets import the dataset\n",
    "jobs = pd.read_csv(\"jobs.csv\")"
   ]
  },
  {
   "cell_type": "code",
   "execution_count": 4,
   "metadata": {},
   "outputs": [],
   "source": [
    "# lets check the head of naukri\n",
    "data = pd.read_csv('naukri.csv')"
   ]
  },
  {
   "cell_type": "markdown",
   "metadata": {},
   "source": []
  },
  {
   "cell_type": "code",
   "execution_count": 5,
   "metadata": {},
   "outputs": [],
   "source": [
    "data['joblocation_adress'] = data['joblocation_address'].str.split(',')\n",
    "  #pd.set_option('max_rows', 300000)\n",
    "    #  data['joblocation_adress']"
   ]
  },
  {
   "cell_type": "code",
   "execution_count": 6,
   "metadata": {},
   "outputs": [],
   "source": [
    "data = data.explode('joblocation_adress')\n",
    "pd.set_option('max_rows', 30000)\n",
    "#data['joblocation_adress'].value_counts()"
   ]
  },
  {
   "cell_type": "code",
   "execution_count": 7,
   "metadata": {},
   "outputs": [],
   "source": [
    "\n",
    "data['joblocation_adress'] = data['joblocation_adress'].replace(('(Bengaluru/Bangalore)',' Bangalore',\n",
    "                                                                ' Bangalore ','Bangalore ','Bengaluru/Bangalore ',\n",
    "                                                                 ' Bengaluru/Bangalore ',' Bengaluru/Bangalore',\n",
    "                                                                'Bengaluru/Bangalore','Bengaluru','NCR Bangalore',\n",
    "                                                                'NCR Bangalore ','Near Bangalore', ' Bengaluru/Bangalore',\n",
    "                                                                 ' Bengaluru/Bangalore ', ' Bengaluru',\n",
    "                                                                 'Bangalore , Bangalore / Bangalore',\n",
    "                                                                 'Bangalore , karnataka',' Bengaluru / Bangalore', \n",
    "                                                                 ' Bengaluru / Bangalore ', 'Bengaluru Bangalore',\n",
    "                                                                 'India-Karnataka-Bangalore',' bangalore',' karnataka',\n",
    "                                                                ' Bengaluru Bangalore'),\n",
    "                                                                ('Bangalore','Bangalore','Bangalore','Bangalore','Bangalore',\n",
    "                                                                'Bangalore','Bangalore','Bangalore','Bangalore','Bangalore',\n",
    "                                                                'Bangalore','Bangalore','Bangalore','Bangalore','Bangalore',\n",
    "                                                                 'Bangalore','Bangalore', 'Bangalore','Bangalore','Bangalore',\n",
    "                                                                'Bangalore','Bangalore','Bangalore','Bangalore',))\n",
    "                                                                \n",
    "data['joblocation_adress'] = data['joblocation_adress'].replace(('Hyderabad / Secunderabad',' Hyderabad / Secunderabad',\n",
    "                                                                 ' Hyderabad / Secunderabad ','Hyderabad / Secunderabad ',\n",
    "                                                                ' Hyderabad','Hyderabad ',' Hyderabad ',\n",
    "                                                                 'Hyderabad/Secunderabad','Hyderabad/Secunderabad ',\n",
    "                                                                ' Hyderabad/Secunderabad ',' Hyderabad/Secunderabad',),\n",
    "                                                                ('Hyderabad', 'Hyderabad','Hyderabad','Hyderabad',\n",
    "                                                                 'Hyderabad', 'Hyderabad','Hyderabad','Hyderabad',\n",
    "                                                                'Hyderabad','Hyderabad','Hyderabad'))\n",
    "\n",
    "\n",
    "  \n",
    "data['joblocation_adress'] = data['joblocation_adress'].replace(('NAVI MUMBAI',' NAVI MUMBAI','NAVI MUMBAI ',\n",
    "                                                                 ' NAVI MUMBAI',' NAVI MUMBAI ','Mumbai , Mumbai',\n",
    "                                                                 ' Mumbai',' Mumbai ','Mumbai ','mumbai','Navi Mumbai',\n",
    "                                                                ' Navi Mumbai',' Navi Mumbai ','Navi Mumbai ', \n",
    "                                                                 ' Mumbai Suburbs','Mumbai Suburbs ','Mumbai Suburbs',\n",
    "                                                                ' Mumbai Suburbs ','mumbai',' mumbai','mumbai ',\n",
    "                                                                 ' maharashtra'),\n",
    "                                                                ('Mumbai','Mumbai','Mumbai','Mumbai','Mumbai','Mumbai',\n",
    "                                                                 'Mumbai','Mumbai','Mumbai', 'Mumbai','Mumbai','Mumbai',\n",
    "                                                                'Mumbai','Mumbai','Mumbai','Mumbai','Mumbai','Mumbai','Mumbai',\n",
    "                                                                'Mumbai','Mumbai', 'Mumbai'))\n",
    "\n",
    "data['joblocation_adress'] = data['joblocation_adress'].replace(('Noida','Noida ',' Noida',' Delhi','Delhi','Delhi ',' Delhi ',\n",
    "                                                                 'Gurgaon',' Gurgaon',' Gurgaon ','Gurgaon ', ' noida',\n",
    "                                                                 ' Noida/Greater Noida',' Noida ', ' Delhi NCR',\n",
    "                                                                 'Delhi/NCR(National Capital Region)',' Delhi/NCR ',\n",
    "                                                                 ' Delhi/NCR(National Capital Region)',\n",
    "                                                                 ' Delhi/NCR(National Capital Region) ',\n",
    "                                                                 'Delhi/NCR(National Capital Region) ','Delhi , Delhi',\n",
    "                                                                 'Noida , Noida/Greater Noida','Ghaziabad',\n",
    "                                                                 'Delhi/NCR(National Capital Region) , Gurgaon',\n",
    "                                                                 'NCR , NCR','NCR/NCR(National Capital Region)',\n",
    "                                                                'NCR , NCR/Greater NCR','NCR/NCR(National Capital Region), NCR',\n",
    "                                                                 'NCR , NCR/NCR(National Capital Region)',\n",
    "                                                                 'NCR/NCR(National Capital Region)','NCR/Greater NCR',\n",
    "                                                                 'NCR/NCR(National Capital Region) , NCR','Delhi/NCR ',\n",
    "                                                                ' Noida/Greater Noida','Greater Noida',' Greater Noida',\n",
    "                                                                 ' Greater Noida ','Greater Noida ','Ghaziabad',' Ghaziabad',\n",
    "                                                                 'Ghaziabad ',' Ghaziabad ','Faridabad','Faridabad ',\n",
    "                                                                 ' Faridabad',' Faridabad ',' Noida/Greater Noida',\n",
    "                                                                 ' Noida/Greater Noida ',' delhi',' Delhi/NCR','Delhi NCR'\n",
    "                                                                ),\n",
    "                                                                ('NCR','NCR','NCR','NCR','NCR','NCR','NCR','NCR','NCR','NCR',\n",
    "                                                                'NCR','NCR','NCR','NCR','NCR','NCR','NCR','NCR','NCR','NCR',\n",
    "                                                                'NCR','NCR','NCR','NCR','NCR','NCR', 'NCR','NCR','NCR','NCR',\n",
    "                                                                 'NCR','NCR','NCR','NCR','NCR','NCR','NCR','NCR','NCR','NCR',\n",
    "                                                                 'NCR','NCR','NCR','NCR','NCR','NCR','NCR','NCR','NCR','NCR',\n",
    "                                                                'NCR'))\n",
    "\n",
    "\n",
    "data['joblocation_adress'] = data['joblocation_adress'].replace(('Chennai ',' Chennai',' Chennai ',' Chennai',\n",
    "                                                                 'chennai ',' chennai',' chennai ',' chennai',),\n",
    "                                                                ('Chennai', 'Chennai','Chennai','Chennai','Chennai',\n",
    "                                                                'Chennai','Chennai','Chennai',))\n",
    "\n",
    "data['joblocation_adress'] = data['joblocation_adress'].replace(('Pune ',' Pune',' Pune '),('Pune','Pune','Pune'))\n",
    "data['joblocation_adress'] = data['joblocation_adress'].replace(('Kolkata ',' Kolkata',' Kolkata ',\n",
    "                                                                ' kolkata','kolkata ',' kolkata'),\n",
    "                                                                ('Kolkata','Kolkata','Kolkata',\n",
    "                                                                  'Kolkata','Kolkata','Kolkata'))\n",
    "data['joblocation_adress'] = data['joblocation_adress'].replace((' Ahmedabad','Ahmedabad ',' Ahmedabad '),('Ahmedabad',\n",
    "                                                                                         'Ahmedabad','Ahmedabad'))\n",
    "data['joblocation_adress'] = data['joblocation_adress'].replace(('Chandigarh ',' Chandigarh',' Chandigarh '),\n",
    "                                                                ('Chandigarh','Chandigarh','Chandigarh'))\n",
    "data['joblocation_adress'] = data['joblocation_adress'].replace(('Surat ',' Surat',' Surat '),\n",
    "                                                                ('Surat','Surat','Surat'))\n",
    "data['joblocation_adress'] = data['joblocation_adress'].replace(('Ernakulam / Kochi/ Cochin ', ' Kochi', 'Kochi ',' Kochi ',\n",
    "                                                                 ' Cochin/ Kochi/ Ernakulam', ' Cochin/ Kochi/ Ernakulam ', \n",
    "                                                                 ' Ernakulam / Kochi/ Cochin',' Ernakulam / Kochi/ Cochin '),\n",
    "                                                                ('Kochi','Kochi','Kochi','Kochi','Kochi','Kochi','Kochi',\n",
    "                                                                 'Kochi',))\n",
    "data['joblocation_adress'] = data['joblocation_adress'].replace(('Coimbatore ',' Coimbatore',' Coimbatore '),\n",
    "                                                                ('Coimbatore','Coimbatore','Coimbatore'))\n",
    "data['joblocation_adress'] = data['joblocation_adress'].replace(('Coimbatore ',' Coimbatore',' Coimbatore '),\n",
    "                                                                ('Coimbatore','Coimbatore','Coimbatore'))\n",
    "data['joblocation_adress'] = data['joblocation_adress'].replace(('Lucknow ',' Lucknow',' Lucknow '),\n",
    "                                                                ('Lucknow','Lucknow','Lucknow'))\n",
    "data['joblocation_adress'] = data['joblocation_adress'].replace(('Jaipur ',' Jaipur',' Jaipur ','jaipur ',' jaipur',\n",
    "                                                                 ' jaipur '),\n",
    "                                                                ('Jaipur','Jaipur','Jaipur','Jaipur','Jaipur','Jaipur'))\n",
    "data['joblocation_adress'] = data['joblocation_adress'].replace(('Vijayawada ',' Vijayawada',' Vijayawada '),\n",
    "                                                                ('Vijayawada','Vijayawada','Vijayawada'))\n",
    "data['joblocation_adress'] = data['joblocation_adress'].replace(('Visakhapatnam ',' Visakhapatnam',' Visakhapatnam ',\n",
    "                                                                'Visakhapatnam/Vizag ',' Visakhapatnam/Vizag',\n",
    "                                                                 ' Visakhapatnam/Vizag '),\n",
    "                                                                ('Visakhapatnam','Visakhapatnam','Visakhapatnam',\n",
    "                                                                 'Visakhapatnam','Visakhapatnam','Visakhapatnam',\n",
    "                                                                ))\n",
    "\n",
    "data['joblocation_adress'] = data['joblocation_adress'].replace((' Bhubaneshwar',' Bhubaneshwar',' Bhubaneshwar '),\n",
    "                                                                ('Bhubaneshwar','Bhubaneshwar','Bhubaneshwar'))\n",
    "data['joblocation_adress'] = data['joblocation_adress'].replace((' Patna',' Patna',' Patna '),\n",
    "                                                                ('Patna','Patna','Patna'))\n",
    "\n",
    "data['joblocation_adress'] = data['joblocation_adress'].replace((' Trivandrum',' Trivandrum',' Trivandrum '),\n",
    "                                                                ('Trivandrum','Trivandrum','Trivandrum'))\n",
    "\n",
    "data['joblocation_adress'] = data['joblocation_adress'].replace((' Mangalore',' Mangalore',' Mangalore '),\n",
    "                                                                ('Mangalore','Mangalore','Mangalore'))\n",
    "data['joblocation_adress'] = data['joblocation_adress'].replace((' Indore',' Indore',' Indore '),\n",
    "                                                                ('Indore','Indore','Indore'))\n",
    "data['joblocation_adress'] = data['joblocation_adress'].replace((' Guwahati',' Guwahati',' Guwahati '),\n",
    "                                                                ('Guwahati','Guwahati','Guwahati'))\n",
    "data['joblocation_adress'] = data['joblocation_adress'].replace((' Nagpur',' Nagpur',' Nagpur '),\n",
    "                                                                ('Nagpur','Nagpur','Nagpur'))\n",
    "data['joblocation_adress'] = data['joblocation_adress'].replace((' Raipur',' Raipur',' Raipur '),\n",
    "                                                                ('Raipur','Raipur','Raipur'))\n",
    "data['joblocation_adress'] = data['joblocation_adress'].replace((' Thane',' Thane',' Thane '),\n",
    "                                                                ('Thane','Thane','Thane'))\n",
    "data['joblocation_adress'] = data['joblocation_adress'].replace((' Bhopal',' Bhopal',' Bhopal '),\n",
    "                                                                ('Bhopal','Bhopal','Bhopal'))\n",
    "data['joblocation_adress'] = data['joblocation_adress'].replace((' Vadodara/Baroda',' Vadodara/Baroda',' Vadodara/Baroda ',\n",
    "                                                                ' Vadodara','Vadodara ',' Vadodara '),\n",
    "                                                                ('Vadodara','Vadodara','Vadodara','Vadodara',\n",
    "                                                                 'Vadodara','Vadodara',))\n",
    "                                                                                                                                  \n",
    "pd.set_option('max_rows', 2400)\n",
    "#data['joblocation_adress'].value_counts()"
   ]
  },
  {
   "cell_type": "code",
   "execution_count": 8,
   "metadata": {},
   "outputs": [],
   "source": [
    "counts = data['joblocation_adress'].value_counts()\n",
    "data = data.loc[data['joblocation_adress'].isin(counts.index[counts > 25])]\n",
    "#display(data['joblocation_adress'].value_counts())\n",
    "\n",
    "#sns.countplot(data['joblocation_adress'], palette = 'inferno')\n",
    "#plt.title('Locations with Highest Jobs', fontsize = 20)\n",
    "#plt.xlabel(' ')\n",
    "#plt.xticks(rotation = 90)\n",
    "#plt.show()"
   ]
  },
  {
   "cell_type": "code",
   "execution_count": 9,
   "metadata": {},
   "outputs": [],
   "source": [
    "pd.set_option('max_rows', 40000)\n",
    "#data['experience'].str.split(' ')"
   ]
  },
  {
   "cell_type": "code",
   "execution_count": 10,
   "metadata": {},
   "outputs": [],
   "source": [
    "data['experience'] = data['experience'].str.split(\" \")\n",
    "data['Min Experience'] = data['experience'].apply(lambda x: x[0])\n",
    "data['Max Experience'] = data['experience'].apply(lambda x: x[2] if len(x) > 2 else x[1])"
   ]
  },
  {
   "cell_type": "code",
   "execution_count": 11,
   "metadata": {},
   "outputs": [],
   "source": [
    "data['Min Experience'] = data['Min Experience'].replace('Not',0)\n",
    "data['Max Experience'] = data['Max Experience'].replace(('Mentioned','-1'), (5,5))\n",
    "\n",
    "# lets convert thenm into numerical data types\n",
    "data['Min Experience'] = data['Min Experience'].astype('int')\n",
    "data['Max Experience'] = data['Max Experience'].astype('int')"
   ]
  },
  {
   "cell_type": "code",
   "execution_count": 12,
   "metadata": {},
   "outputs": [],
   "source": [
    "data['education'] = data['education'].fillna('UG: Any Graduate - Any Specialization')\n",
    "#data['education'].isnull().sum()"
   ]
  },
  {
   "cell_type": "code",
   "execution_count": 13,
   "metadata": {},
   "outputs": [],
   "source": [
    "data['Education'] = data['education'].str.split(' ')\n",
    "data['Education'] = data['Education'].apply(lambda x: x[1] if len(x) > 1 else x[0])\n",
    "\n",
    "#data['Education'].value_counts(dropna = False)"
   ]
  },
  {
   "cell_type": "code",
   "execution_count": 14,
   "metadata": {},
   "outputs": [],
   "source": [
    "# let's do some cleaning\n",
    "\n",
    "data['Education'] = data['Education'].replace(('B.Tech/B.E.','Graduation','Other','-','Not','B.Tech/B.E.,','Postgraduate',\n",
    "                                               'PG:CA','Diploma,','B.Com,','B.Pharma,','B.A,','BCA,','B.Sc,','MBA/PGDM','B.B.A,',\n",
    "                                              'PG:Other','Doctorate:Doctorate','Post'),\n",
    "                                              ('B.Tech','B.Tech','B.Tech','B.Tech','B.Tech','B.Tech','B.Tech',\n",
    "                                              'CA','Diploma','B.Com','B.Pharma','B.A','BCA','B.Sc','MBA','BBA',\n",
    "                                              'B.Tech','Doctorate','B.Tech'))\n",
    "\n",
    "#data['Education'].value_counts()"
   ]
  },
  {
   "cell_type": "markdown",
   "metadata": {},
   "source": [
    "## Vacancies for different education"
   ]
  },
  {
   "cell_type": "code",
   "execution_count": 15,
   "metadata": {},
   "outputs": [
    {
     "data": {
      "image/png": "[encoded data removed]",
      "text/plain": [
       "<Figure size 864x432 with 1 Axes>"
      ]
     },
     "metadata": {},
     "output_type": "display_data"
    }
   ],
   "source": [
    "counts = data['Education'].value_counts()\n",
    "data = data.loc[data['Education'].isin(counts.index[counts >= 25])]\n",
    "#display(data['Education'].value_counts())\n",
    "\n",
    "plt.rcParams['figure.figsize'] = (12,6)\n",
    "x = data[data['Education'] != 'Any']\n",
    "sns.countplot(y = x['Education'], palette = 'inferno')\n",
    "plt.title('', fontsize = 20)\n",
    "plt.yticks(fontsize = 20)\n",
    "plt.ylabel(\" \")\n",
    "plt.xlabel(\" \")\n",
    "plt.show()"
   ]
  },
  {
   "cell_type": "markdown",
   "metadata": {},
   "source": [
    "## Top sectors for jobs"
   ]
  },
  {
   "cell_type": "code",
   "execution_count": 16,
   "metadata": {},
   "outputs": [],
   "source": [
    "data['industry'] = data['industry'].fillna(data['industry'].mode()[0])\n",
    "\n",
    "#data['industry'].isnull().sum()"
   ]
  },
  {
   "cell_type": "code",
   "execution_count": 17,
   "metadata": {},
   "outputs": [
    {
     "data": {
      "image/png": "[encoded data removed]",
      "text/plain": [
       "<Figure size 1080x504 with 1 Axes>"
      ]
     },
     "metadata": {},
     "output_type": "display_data"
    }
   ],
   "source": [
    "data['Industry'] = data['industry'].str.split(' / ')\n",
    "data['Industry'] = data['Industry'].apply(lambda x: x[0])\n",
    "\n",
    "#display(data['Industry'].value_counts())\n",
    "\n",
    "plt.rcParams['figure.figsize'] = (15, 7)\n",
    "plt.title('', fontsize = 20)\n",
    "sns.barplot(y = data['Industry'].value_counts().head(10).index,\n",
    "            x = data['Industry'].value_counts().head(10).values,\n",
    "            palette = 'copper')\n",
    "plt.show()"
   ]
  },
  {
   "cell_type": "code",
   "execution_count": 18,
   "metadata": {},
   "outputs": [],
   "source": [
    "data['skills'] = data['skills'].fillna(data['skills'].mode()[0])\n",
    "#data['skills'].isnull().sum()"
   ]
  },
  {
   "cell_type": "code",
   "execution_count": 19,
   "metadata": {},
   "outputs": [],
   "source": [
    "data['Skills'] = data['skills'].str.split(\" - \")\n",
    "data['Skills'] = data['Skills'].apply(lambda x: x[1] if len(x) > 1 else x[0])\n",
    "#display(data['Skills'].value_counts())\n",
    "\n",
    "#plt.rcParams['figure.figsize'] = (15, 4)\n",
    "#plt.title('Requirement of Overall Skills', fontsize = 20)\n",
    "#data['Skills'].value_counts().head(25).plot(kind = 'bar', color = 'black')\n",
    "#plt.grid()\n",
    "#plt.yticks(fontsize = 15)\n",
    "#plt.ylabel(\" \")\n",
    "#plt.xlabel(\" \")\n",
    "#plt.show()"
   ]
  },
  {
   "cell_type": "code",
   "execution_count": 20,
   "metadata": {},
   "outputs": [],
   "source": [
    "# lets remove the columns which are not required\n",
    "\n",
    "data = data.drop(['education',\n",
    "                  'joblocation_address',\n",
    "                  'experience',\n",
    "                  'industry',\n",
    "                  'skills',\n",
    "                  'jobid',\n",
    "                  'uniq_id',\n",
    "                  'site_name'], axis = 1)\n",
    "\n",
    "#data.columns"
   ]
  },
  {
   "cell_type": "code",
   "execution_count": 22,
   "metadata": {},
   "outputs": [],
   "source": [
    "data['numberofpositions'] = data['numberofpositions'].fillna(1)\n",
    "data['numberofpositions'] = data['numberofpositions'].astype('int')\n",
    "\n",
    "# If the job post date and pay rate is missing it is useless, so lets remove the records where jobppostdate is not mentioned\n",
    "data = data.dropna()\n",
    "#data.isnull().sum().sum()"
   ]
  },
  {
   "cell_type": "code",
   "execution_count": 24,
   "metadata": {},
   "outputs": [],
   "source": [
    "data['postdate'] = data['postdate'].str.split(\" \")\n",
    "data['postdate'] = data['postdate'].apply(lambda x: x[0])\n",
    "#data['postdate'].head()"
   ]
  },
  {
   "cell_type": "code",
   "execution_count": 25,
   "metadata": {},
   "outputs": [],
   "source": [
    "# By looking at the above result we can easily analyze that there are some duplicate\n",
    "\n",
    "# lets print the no. of rows before removing Duplicates\n",
    "#print(\"No. of Rows Before Removing Duplicates: \",data.shape[0])\n",
    "\n",
    "# so lets remove all the duplicates from the data\n",
    "data.drop_duplicates(subset = None, keep = 'first', inplace = True)\n",
    "\n",
    "# lets print the no. of rows after removing Duplicates\n",
    "#print(\"No. of Rows After Removing Duplicates: \",data.shape[0])"
   ]
  },
  {
   "cell_type": "markdown",
   "metadata": {},
   "source": [
    "## Searching for Jobs"
   ]
  },
  {
   "cell_type": "code",
   "execution_count": 26,
   "metadata": {},
   "outputs": [
    {
     "data": {
      "text/html": [
       "<div>\n",
       "<style scoped>\n",
       "    .dataframe tbody tr th:only-of-type {\n",
       "        vertical-align: middle;\n",
       "    }\n",
       "\n",
       "    .dataframe tbody tr th {\n",
       "        vertical-align: top;\n",
       "    }\n",
       "\n",
       "    .dataframe thead th {\n",
       "        text-align: right;\n",
       "    }\n",
       "</style>\n",
       "<table border=\"1\" class=\"dataframe\">\n",
       "  <thead>\n",
       "    <tr style=\"text-align: right;\">\n",
       "      <th></th>\n",
       "      <th>company</th>\n",
       "      <th>jobtitle</th>\n",
       "      <th>Education</th>\n",
       "      <th>payrate</th>\n",
       "      <th>numberofpositions</th>\n",
       "    </tr>\n",
       "  </thead>\n",
       "  <tbody>\n",
       "    <tr>\n",
       "      <th>122</th>\n",
       "      <td>ITBMS Inc</td>\n",
       "      <td>Mega Walk-in Drive - Tech M - Genesys - Pune /...</td>\n",
       "      <td>Any</td>\n",
       "      <td>5,00,000 - 12,00,000 P.A</td>\n",
       "      <td>50</td>\n",
       "    </tr>\n",
       "    <tr>\n",
       "      <th>343</th>\n",
       "      <td>Confidential hiring for Subex</td>\n",
       "      <td>JAVA Dvlp</td>\n",
       "      <td>B.Tech</td>\n",
       "      <td>Not Disclosed by Recruiter</td>\n",
       "      <td>20</td>\n",
       "    </tr>\n",
       "    <tr>\n",
       "      <th>1424</th>\n",
       "      <td>TQuanta Technologies Pvt. Ltd.</td>\n",
       "      <td>JAVA Developer</td>\n",
       "      <td>B.Tech</td>\n",
       "      <td>Not Disclosed by Recruiter</td>\n",
       "      <td>18</td>\n",
       "    </tr>\n",
       "    <tr>\n",
       "      <th>1668</th>\n",
       "      <td>Confidential</td>\n",
       "      <td>Opening for Adobe CQ5 @ Bangalore / Pune /mumbai</td>\n",
       "      <td>Any</td>\n",
       "      <td>Not Disclosed by Recruiter</td>\n",
       "      <td>20</td>\n",
       "    </tr>\n",
       "    <tr>\n",
       "      <th>4005</th>\n",
       "      <td>ANTHROPLACE Consulting Pvt Ltd hiring for Fort...</td>\n",
       "      <td>Urgent Opening - Mainframe Operations</td>\n",
       "      <td>Any</td>\n",
       "      <td>Best in the Industry</td>\n",
       "      <td>100</td>\n",
       "    </tr>\n",
       "    <tr>\n",
       "      <th>4440</th>\n",
       "      <td>Career Network</td>\n",
       "      <td>Pega PRPC Professionals!! Hyderabad, Bangalore...</td>\n",
       "      <td>Any</td>\n",
       "      <td>Not Disclosed by Recruiter</td>\n",
       "      <td>18</td>\n",
       "    </tr>\n",
       "    <tr>\n",
       "      <th>4512</th>\n",
       "      <td>Intelizign Engineering Services Pvt Ltd</td>\n",
       "      <td>Sr. C++ Software Developer in Cad/plm Domain</td>\n",
       "      <td>B.Tech</td>\n",
       "      <td>5,00,000 - 12,00,000 P.A</td>\n",
       "      <td>50</td>\n",
       "    </tr>\n",
       "    <tr>\n",
       "      <th>8652</th>\n",
       "      <td>Metro Career Solutions Pvt Ltd hiring for Many...</td>\n",
       "      <td>BW Consultant</td>\n",
       "      <td>Any</td>\n",
       "      <td>4,00,000 - 8,00,000 P.A. INR Best In Industry</td>\n",
       "      <td>25</td>\n",
       "    </tr>\n",
       "    <tr>\n",
       "      <th>10078</th>\n",
       "      <td>Zing Consultants</td>\n",
       "      <td>Immediate Openings - Java SE, .net, iOS &amp; Andr...</td>\n",
       "      <td>Any</td>\n",
       "      <td>2,50,000 - 6,00,000 P.A</td>\n",
       "      <td>12</td>\n",
       "    </tr>\n",
       "    <tr>\n",
       "      <th>11015</th>\n",
       "      <td>ASAP Info Systems Pvt Ltd</td>\n",
       "      <td>Python Developer</td>\n",
       "      <td>Any</td>\n",
       "      <td>Not Disclosed by Recruiter</td>\n",
       "      <td>20</td>\n",
       "    </tr>\n",
       "    <tr>\n",
       "      <th>12009</th>\n",
       "      <td>Metro Career Solutions Pvt Ltd</td>\n",
       "      <td>BW Consultant</td>\n",
       "      <td>Any</td>\n",
       "      <td>4,00,000 - 8,00,000 P.A. INR Best In Industry</td>\n",
       "      <td>25</td>\n",
       "    </tr>\n",
       "    <tr>\n",
       "      <th>14095</th>\n",
       "      <td>Brainsearch Consulting Pvt Ltd hiring for Fort...</td>\n",
       "      <td>Build and Release on Java J2EE Application - I...</td>\n",
       "      <td>Any</td>\n",
       "      <td>8,00,000 - 15,00,000 P.A. Excellent Paymaster</td>\n",
       "      <td>20</td>\n",
       "    </tr>\n",
       "    <tr>\n",
       "      <th>20335</th>\n",
       "      <td>ASAP Info Systems Pvt Ltd</td>\n",
       "      <td>Cognos Developers</td>\n",
       "      <td>Any</td>\n",
       "      <td>Not Disclosed by Recruiter</td>\n",
       "      <td>12</td>\n",
       "    </tr>\n",
       "    <tr>\n",
       "      <th>20417</th>\n",
       "      <td>ASAP Info Systems Pvt Ltd</td>\n",
       "      <td>IOS Developer</td>\n",
       "      <td>Any</td>\n",
       "      <td>2,25,000 - 6,50,000 P.A</td>\n",
       "      <td>15</td>\n",
       "    </tr>\n",
       "    <tr>\n",
       "      <th>20519</th>\n",
       "      <td>Teamware Solutions (quantum leap consulting)</td>\n",
       "      <td>Service Desk_it Infrastructure</td>\n",
       "      <td>Any</td>\n",
       "      <td>Not Disclosed by Recruiter</td>\n",
       "      <td>29</td>\n",
       "    </tr>\n",
       "    <tr>\n",
       "      <th>21554</th>\n",
       "      <td>ASAP Info Systems Pvt Ltd</td>\n",
       "      <td>SAP ABAP</td>\n",
       "      <td>Any</td>\n",
       "      <td>Not Disclosed by Recruiter</td>\n",
       "      <td>30</td>\n",
       "    </tr>\n",
       "  </tbody>\n",
       "</table>\n",
       "</div>"
      ],
      "text/plain": [
       "                                                 company  \\\n",
       "122                                            ITBMS Inc   \n",
       "343                        Confidential hiring for Subex   \n",
       "1424                      TQuanta Technologies Pvt. Ltd.   \n",
       "1668                                        Confidential   \n",
       "4005   ANTHROPLACE Consulting Pvt Ltd hiring for Fort...   \n",
       "4440                                      Career Network   \n",
       "4512             Intelizign Engineering Services Pvt Ltd   \n",
       "8652   Metro Career Solutions Pvt Ltd hiring for Many...   \n",
       "10078                                   Zing Consultants   \n",
       "11015                          ASAP Info Systems Pvt Ltd   \n",
       "12009                     Metro Career Solutions Pvt Ltd   \n",
       "14095  Brainsearch Consulting Pvt Ltd hiring for Fort...   \n",
       "20335                          ASAP Info Systems Pvt Ltd   \n",
       "20417                          ASAP Info Systems Pvt Ltd   \n",
       "20519       Teamware Solutions (quantum leap consulting)   \n",
       "21554                          ASAP Info Systems Pvt Ltd   \n",
       "\n",
       "                                                jobtitle Education  \\\n",
       "122    Mega Walk-in Drive - Tech M - Genesys - Pune /...       Any   \n",
       "343                                            JAVA Dvlp    B.Tech   \n",
       "1424                                      JAVA Developer    B.Tech   \n",
       "1668    Opening for Adobe CQ5 @ Bangalore / Pune /mumbai       Any   \n",
       "4005               Urgent Opening - Mainframe Operations       Any   \n",
       "4440   Pega PRPC Professionals!! Hyderabad, Bangalore...       Any   \n",
       "4512        Sr. C++ Software Developer in Cad/plm Domain    B.Tech   \n",
       "8652                                       BW Consultant       Any   \n",
       "10078  Immediate Openings - Java SE, .net, iOS & Andr...       Any   \n",
       "11015                                   Python Developer       Any   \n",
       "12009                                      BW Consultant       Any   \n",
       "14095  Build and Release on Java J2EE Application - I...       Any   \n",
       "20335                                  Cognos Developers       Any   \n",
       "20417                                      IOS Developer       Any   \n",
       "20519                     Service Desk_it Infrastructure       Any   \n",
       "21554                                           SAP ABAP       Any   \n",
       "\n",
       "                                             payrate  numberofpositions  \n",
       "122                         5,00,000 - 12,00,000 P.A                 50  \n",
       "343                       Not Disclosed by Recruiter                 20  \n",
       "1424                      Not Disclosed by Recruiter                 18  \n",
       "1668                      Not Disclosed by Recruiter                 20  \n",
       "4005                            Best in the Industry                100  \n",
       "4440                      Not Disclosed by Recruiter                 18  \n",
       "4512                        5,00,000 - 12,00,000 P.A                 50  \n",
       "8652   4,00,000 - 8,00,000 P.A. INR Best In Industry                 25  \n",
       "10078                        2,50,000 - 6,00,000 P.A                 12  \n",
       "11015                     Not Disclosed by Recruiter                 20  \n",
       "12009  4,00,000 - 8,00,000 P.A. INR Best In Industry                 25  \n",
       "14095  8,00,000 - 15,00,000 P.A. Excellent Paymaster                 20  \n",
       "20335                     Not Disclosed by Recruiter                 12  \n",
       "20417                        2,25,000 - 6,50,000 P.A                 15  \n",
       "20519                     Not Disclosed by Recruiter                 29  \n",
       "21554                     Not Disclosed by Recruiter                 30  "
      ]
     },
     "metadata": {},
     "output_type": "display_data"
    }
   ],
   "source": [
    "pd.set_option('max_rows', 150)\n",
    "\n",
    "@interact\n",
    "def check(City = list(data['joblocation_adress'].value_counts().index),\n",
    "          Industry = list(data['Industry'].value_counts().index),\n",
    "          Experience = list(data['Min Experience'].value_counts().sort_values(ascending = False).index),\n",
    "          Vacancies = 10\n",
    "    \n",
    "          ):\n",
    "             return (data.loc[(data['numberofpositions'] > Vacancies)\n",
    "                   & (data['joblocation_adress'] == City)\n",
    "                   & (data['Industry'] == Industry)\n",
    "                   & (data['Min Experience'] == Experience)][[\n",
    "                                                      'company',\n",
    "                                                      'jobtitle',\n",
    "                                                      'Education',\n",
    "                                                      'payrate',\n",
    "                                                      'numberofpositions',\n",
    "                                                      ]])\n",
    "    \n",
    "    "
   ]
  },
  {
   "cell_type": "markdown",
   "metadata": {},
   "source": [
    "## Industry recommendation"
   ]
  },
  {
   "cell_type": "markdown",
   "metadata": {},
   "source": []
  },
  {
   "cell_type": "code",
   "execution_count": 27,
   "metadata": {},
   "outputs": [],
   "source": [
    "#lets create a matrix of skills vs jobtitle\n",
    "#this matrix will be used for predicting the best suited job titles with respect to the skills\n",
    "x = pd.crosstab(data['Education'],data['Industry'])\n",
    "#x"
   ]
  },
  {
   "cell_type": "code",
   "execution_count": 28,
   "metadata": {
    "scrolled": true
   },
   "outputs": [
    {
     "data": {
      "text/plain": [
       "Industry\n",
       "Internet          0.997958\n",
       "Telecom/ISP /     0.993423\n",
       "Semiconductors    0.993037\n",
       "dtype: float64"
      ]
     },
     "metadata": {},
     "output_type": "display_data"
    }
   ],
   "source": [
    "@interact\n",
    "def recommendation_jobs(Industry = list(data['Industry'].value_counts().index)):\n",
    "    job = x[Industry]\n",
    "    similar_jobs = x.corrwith(job)\n",
    "    similar_jobs = similar_jobs.sort_values(ascending=False)\n",
    "    similar_jobs = similar_jobs.iloc[2:]\n",
    "    return similar_jobs.head(3)\n"
   ]
  },
  {
   "cell_type": "code",
   "execution_count": null,
   "metadata": {},
   "outputs": [],
   "source": []
  },
  {
   "cell_type": "code",
   "execution_count": null,
   "metadata": {},
   "outputs": [],
   "source": []
  }
 ],
 "metadata": {
  "kernelspec": {
   "display_name": "Python 3",
   "language": "python",
   "name": "python3"
  },
  "language_info": {
   "codemirror_mode": {
    "name": "ipython",
    "version": 3
   },
   "file_extension": ".py",
   "mimetype": "text/x-python",
   "name": "python",
   "nbconvert_exporter": "python",
   "pygments_lexer": "ipython3",
   "version": "3.7.6"
  },
  "widgets": {
   "application/vnd.jupyter.widget-state+json": {
    "state": {},
    "version_major": 2,
    "version_minor": 0
   }
  }
 },
 "nbformat": 4,
 "nbformat_minor": 4
}
